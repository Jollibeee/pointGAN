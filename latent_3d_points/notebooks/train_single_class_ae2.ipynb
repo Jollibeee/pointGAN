{
 "cells": [
  {
   "cell_type": "markdown",
   "metadata": {},
   "source": [
    "## This notebook will help you train a vanilla Point-Cloud AE with the basic architecture we used in our paper.\n",
    "    (it assumes latent_3d_points is in the PYTHONPATH and the structural losses have been compiled)"
   ]
  },
  {
   "cell_type": "code",
   "execution_count": 1,
   "metadata": {},
   "outputs": [
    {
     "name": "stdout",
     "output_type": "stream",
     "text": [
      "/home/sohee/coding/PointCloud/lgan/latent_3d_points\n",
      "WARNING:tensorflow:From /home/sohee/anaconda3/envs/python3/lib/python3.6/site-packages/tensorflow/python/framework/op_def_library.py:263: colocate_with (from tensorflow.python.framework.ops) is deprecated and will be removed in a future version.\n",
      "Instructions for updating:\n",
      "Colocations handled automatically by placer.\n",
      "Success\n"
     ]
    }
   ],
   "source": [
    "import os\n",
    "import os.path as osp\n",
    "import sys\n",
    "\n",
    "BASE = os.path.dirname(os.path.abspath(os.path.dirname(\"file\"))) # latent_3D\n",
    "sys.path.append(BASE)  # latent_3D\n",
    "print(BASE)\n",
    "\n",
    "from src.ae_templates import mlp_architecture_ala_iclr_18, default_train_params\n",
    "from src.autoencoder import Configuration as Conf\n",
    "from src.point_net_ae import PointNetAutoEncoder\n",
    "\n",
    "from src.in_out import snc_category_to_synth_id, create_dir, PointCloudDataSet, \\\n",
    "                                        load_all_point_clouds_under_folder\n",
    "\n",
    "from src.tf_utils import reset_tf_graph\n",
    "from src.general_utils import plot_3d_point_cloud"
   ]
  },
  {
   "cell_type": "code",
   "execution_count": 2,
   "metadata": {},
   "outputs": [],
   "source": [
    "# # -*- coding: utf-8 -*-\n",
    "# import numpy as np\n",
    "# import os\n",
    "# import os.path as osp\n",
    "# import sys\n",
    "# import matplotlib.pylab as plt\n",
    "\n",
    "# BASE = os.path.dirname(os.path.abspath(os.path.dirname(\"file\"))) # latent_3D\n",
    "# sys.path.append(BASE) \n",
    "\n",
    "# from src.point_net_ae import PointNetAutoEncoder\n",
    "# from src.autoencoder import Configuration as Conf\n",
    "# from src.neural_net import MODEL_SAVER_ID\n",
    "\n",
    "# from src.in_out import snc_category_to_synth_id, create_dir, PointCloudDataSet, \\\n",
    "#                                         load_all_point_clouds_under_folder\n",
    "\n",
    "# from src.general_utils import plot_3d_point_cloud\n",
    "# from src.tf_utils import reset_tf_graph\n",
    "\n",
    "# from src.vanilla_gan import Vanilla_GAN\n",
    "# from src.w_gan_gp import W_GAN_GP\n",
    "# from src.generators_discriminators import latent_code_discriminator_two_layers,\\\n",
    "# latent_code_generator_two_layers\n"
   ]
  },
  {
   "cell_type": "code",
   "execution_count": 3,
   "metadata": {},
   "outputs": [],
   "source": [
    "%load_ext autoreload\n",
    "%autoreload 2\n",
    "%matplotlib inline"
   ]
  },
  {
   "cell_type": "markdown",
   "metadata": {},
   "source": [
    "Define Basic Parameters"
   ]
  },
  {
   "cell_type": "code",
   "execution_count": 4,
   "metadata": {},
   "outputs": [],
   "source": [
    "class_name = 'airplane'\n",
    "ae_loss = 'chamfer'                   # Loss to optimize: 'emd' or 'chamfer'\n",
    "\n",
    "top_out_dir = 'data/'          # Use to save Neural-Net check-points etc.\n",
    "top_in_dir = 'data/shape_net_core_uniform_samples_2048/' # Top-dir of where point-clouds are stored.\n",
    "\n",
    "top_out_dir = osp.join(BASE, top_out_dir, class_name)\n",
    "top_in_dir = osp.join(BASE, top_in_dir)\n",
    "\n",
    "\n",
    "load_pre_trained_ae = False\n",
    "restore_epoch = 10\n",
    "\n",
    "experiment_name = 'single_class_ae_' + ae_loss \n",
    "n_pc_points = 2048                # Number of points per model.\n",
    "bneck_size = 128                  # Bottleneck-AE size\n",
    "\n",
    "#class_name = input('Give me the class name (e.g. \"chair\"): ').lower()"
   ]
  },
  {
   "cell_type": "code",
   "execution_count": 5,
   "metadata": {},
   "outputs": [],
   "source": [
    "# train_params = default_train_params()\n",
    "train_params = {'batch_size': 50, \n",
    "                'training_epochs': 10,\n",
    "                'denoising': False,\n",
    "                'learning_rate': 0.0005,\n",
    "                'z_rotate': False,\n",
    "                'saver_step': 10,\n",
    "                'loss_display_step': 1\n",
    "               }"
   ]
  },
  {
   "cell_type": "markdown",
   "metadata": {},
   "source": [
    "Load Point-Clouds"
   ]
  },
  {
   "cell_type": "code",
   "execution_count": 6,
   "metadata": {},
   "outputs": [
    {
     "name": "stdout",
     "output_type": "stream",
     "text": [
      "4045 pclouds were loaded. They belong in 1 shape-classes.\n"
     ]
    }
   ],
   "source": [
    "syn_id = snc_category_to_synth_id()[class_name]\n",
    "class_dir = osp.join(top_in_dir , syn_id)\n",
    "all_pc_data = load_all_point_clouds_under_folder(class_dir, n_threads=8, file_ending='.ply', verbose=True)"
   ]
  },
  {
   "cell_type": "markdown",
   "metadata": {},
   "source": [
    "Load default training parameters (some of which are listed beloq). For more details please print the configuration object.\n",
    "\n",
    "    'batch_size': 50   \n",
    "    \n",
    "    'denoising': False     (# by default AE is not denoising)\n",
    "\n",
    "    'learning_rate': 0.0005\n",
    "\n",
    "    'z_rotate': False      (# randomly rotate models of each batch)\n",
    "    \n",
    "    'loss_display_step': 1 (# display loss at end of these many epochs)\n",
    "    'saver_step': 10       (# over how many epochs to save neural-network)"
   ]
  },
  {
   "cell_type": "code",
   "execution_count": 7,
   "metadata": {},
   "outputs": [],
   "source": [
    "encoder, decoder, enc_args, dec_args = mlp_architecture_ala_iclr_18(n_pc_points, bneck_size)\n",
    "train_dir = create_dir(osp.join(top_out_dir, experiment_name))"
   ]
  },
  {
   "cell_type": "code",
   "execution_count": 8,
   "metadata": {},
   "outputs": [],
   "source": [
    "conf = Conf(n_input = [n_pc_points, 3],\n",
    "            loss = ae_loss,\n",
    "            training_epochs = train_params['training_epochs'],\n",
    "            batch_size = train_params['batch_size'],\n",
    "            denoising = train_params['denoising'],\n",
    "            learning_rate = train_params['learning_rate'],\n",
    "            train_dir = train_dir,\n",
    "            loss_display_step = train_params['loss_display_step'],\n",
    "            saver_step = train_params['saver_step'],\n",
    "            z_rotate = train_params['z_rotate'],\n",
    "            encoder = encoder,\n",
    "            decoder = decoder,\n",
    "            encoder_args = enc_args,\n",
    "            decoder_args = dec_args\n",
    "           )\n",
    "conf.experiment_name = experiment_name\n",
    "conf.held_out_step = 5   # How often to evaluate/print out loss on \n",
    "                         # held_out data (if they are provided in ae.train() ).\n",
    "conf.save(osp.join(train_dir, 'configuration'))"
   ]
  },
  {
   "cell_type": "markdown",
   "metadata": {},
   "source": [
    "If you ran the above lines, you can reload a saved model like this:"
   ]
  },
  {
   "cell_type": "code",
   "execution_count": 9,
   "metadata": {
    "scrolled": true
   },
   "outputs": [
    {
     "name": "stdout",
     "output_type": "stream",
     "text": [
      "Building Encoder\n",
      "WARNING:tensorflow:From /home/sohee/anaconda3/envs/python3/lib/python3.6/site-packages/tflearn/initializations.py:119: UniformUnitScaling.__init__ (from tensorflow.python.ops.init_ops) is deprecated and will be removed in a future version.\n",
      "Instructions for updating:\n",
      "Use tf.initializers.variance_scaling instead with distribution=uniform to get equivalent behavior.\n",
      "encoder_conv_layer_0 conv params =  256\n",
      "bnorm params =  128\n",
      "Tensor(\"single_class_ae_chamfer_2/Relu:0\", shape=(?, 2048, 64), dtype=float32)\n",
      "output size: 131072 \n",
      "\n",
      "encoder_conv_layer_1 conv params =  8320\n",
      "bnorm params =  256\n",
      "Tensor(\"single_class_ae_chamfer_2/Relu_1:0\", shape=(?, 2048, 128), dtype=float32)\n",
      "output size: 262144 \n",
      "\n",
      "encoder_conv_layer_2 conv params =  16512\n",
      "bnorm params =  256\n",
      "Tensor(\"single_class_ae_chamfer_2/Relu_2:0\", shape=(?, 2048, 128), dtype=float32)\n",
      "output size: 262144 \n",
      "\n",
      "encoder_conv_layer_3 conv params =  33024\n",
      "bnorm params =  512\n",
      "Tensor(\"single_class_ae_chamfer_2/Relu_3:0\", shape=(?, 2048, 256), dtype=float32)\n",
      "output size: 524288 \n",
      "\n",
      "encoder_conv_layer_4 conv params =  32896\n",
      "bnorm params =  256\n",
      "Tensor(\"single_class_ae_chamfer_2/Relu_4:0\", shape=(?, 2048, 128), dtype=float32)\n",
      "output size: 262144 \n",
      "\n",
      "Tensor(\"single_class_ae_chamfer_2/Max:0\", shape=(?, 128), dtype=float32)\n",
      "Building Decoder\n",
      "decoder_fc_0 FC params =  33024\n",
      "Tensor(\"single_class_ae_chamfer_2/Relu_5:0\", shape=(?, 256), dtype=float32)\n",
      "output size: 256 \n",
      "\n",
      "decoder_fc_1 FC params =  65792\n",
      "Tensor(\"single_class_ae_chamfer_2/Relu_6:0\", shape=(?, 256), dtype=float32)\n",
      "output size: 256 \n",
      "\n",
      "decoder_fc_2 FC params =  1579008\n",
      "Tensor(\"single_class_ae_chamfer_2/decoder_fc_2/BiasAdd:0\", shape=(?, 6144), dtype=float32)\n",
      "output size: 6144 \n",
      "\n",
      "WARNING:tensorflow:From /home/sohee/anaconda3/envs/python3/lib/python3.6/site-packages/tensorflow/python/ops/math_ops.py:3066: to_int32 (from tensorflow.python.ops.math_ops) is deprecated and will be removed in a future version.\n",
      "Instructions for updating:\n",
      "Use tf.cast instead.\n",
      "WARNING:tensorflow:From /home/sohee/anaconda3/envs/python3/lib/python3.6/site-packages/tensorflow/python/ops/math_grad.py:102: div (from tensorflow.python.ops.math_ops) is deprecated and will be removed in a future version.\n",
      "Instructions for updating:\n",
      "Deprecated in favor of operator or tf.math.divide.\n"
     ]
    }
   ],
   "source": [
    "if load_pre_trained_ae:\n",
    "    conf = Conf.load(train_dir + '/configuration')\n",
    "    reset_tf_graph()\n",
    "    ae = PointNetAutoEncoder(conf.experiment_name, conf)\n",
    "    ae.restore_model(conf.train_dir, epoch=restore_epoch)\n",
    "else :\n",
    "    reset_tf_graph()\n",
    "    ae = PointNetAutoEncoder(conf.experiment_name, conf)"
   ]
  },
  {
   "cell_type": "markdown",
   "metadata": {},
   "source": [
    "Build AE Model."
   ]
  },
  {
   "cell_type": "code",
   "execution_count": 10,
   "metadata": {},
   "outputs": [],
   "source": [
    "# reset_tf_graph()\n",
    "# ae = PointNetAutoEncoder(conf.experiment_name, conf)"
   ]
  },
  {
   "cell_type": "markdown",
   "metadata": {},
   "source": [
    "Train the AE (save output to train_stats.txt) "
   ]
  },
  {
   "cell_type": "code",
   "execution_count": 11,
   "metadata": {
    "scrolled": true
   },
   "outputs": [
    {
     "name": "stdout",
     "output_type": "stream",
     "text": [
      "Epoch: 0001 \t training time =  0: 0: 5 \t loss = 0.004620010\n",
      "INFO:tensorflow:/home/sohee/coding/PointCloud/lgan/latent_3d_points/data/airplane/single_class_ae_chamfer/models.ckpt-1 is not in all_model_checkpoint_paths. Manually adding it.\n",
      "Epoch: 0002 \t training time =  0: 0: 3 \t loss = 0.000670234\n",
      "Epoch: 0003 \t training time =  0: 0: 3 \t loss = 0.000569327\n",
      "Epoch: 0004 \t training time =  0: 0: 3 \t loss = 0.000518557\n",
      "Epoch: 0005 \t training time =  0: 0: 3 \t loss = 0.000477906\n",
      "Epoch: 0006 \t training time =  0: 0: 3 \t loss = 0.000447839\n",
      "Epoch: 0007 \t training time =  0: 0: 3 \t loss = 0.000420319\n",
      "Epoch: 0008 \t training time =  0: 0: 3 \t loss = 0.000409983\n",
      "Epoch: 0009 \t training time =  0: 0: 3 \t loss = 0.000398358\n",
      "Epoch: 0010 \t training time =  0: 0: 3 \t loss = 0.000378030\n",
      "INFO:tensorflow:/home/sohee/coding/PointCloud/lgan/latent_3d_points/data/airplane/single_class_ae_chamfer/models.ckpt-10 is not in all_model_checkpoint_paths. Manually adding it.\n"
     ]
    }
   ],
   "source": [
    "buf_size = 1 # Make 'training_stats' file to flush each output line regarding training.\n",
    "fout = open(osp.join(conf.train_dir, 'train_stats.txt'), 'a', buf_size)\n",
    "train_stats = ae.train(all_pc_data, conf, log_file=fout)\n",
    "fout.close()"
   ]
  },
  {
   "cell_type": "code",
   "execution_count": 12,
   "metadata": {},
   "outputs": [
    {
     "name": "stdout",
     "output_type": "stream",
     "text": [
      "/home/sohee/coding/PointCloud/lgan/latent_3d_points/data/airplane/single_class_ae_chamfer\n"
     ]
    },
    {
     "data": {
      "image/png": "[encoded data removed]",
      "text/plain": [
       "<Figure size 432x288 with 1 Axes>"
      ]
     },
     "metadata": {
      "needs_background": "light"
     },
     "output_type": "display_data"
    }
   ],
   "source": [
    "plot_train_curve = True\n",
    "import matplotlib.pylab as plt\n",
    "\n",
    "print(conf.train_dir) # ../data/single_class_ae\n",
    "\n",
    "if plot_train_curve:\n",
    "    x = range(len(train_stats))\n",
    "    loss = [t[1] for t in train_stats] # [0] epoch  [1] loss  [2] time\n",
    "\n",
    "    plt.plot(x, loss)\n",
    "    plt.title('AE training. (%s)' %(class_name))\n",
    "    \n",
    "    plt.tick_params(axis='x', which='both', bottom=False, top=False)\n",
    "    plt.tick_params(axis='y', which='both', left=False, right=False)\n",
    "    \n",
    "    plt.xlabel('Epochs.') \n",
    "    plt.ylabel('Loss.')"
   ]
  },
  {
   "cell_type": "code",
   "execution_count": 13,
   "metadata": {},
   "outputs": [
    {
     "name": "stdout",
     "output_type": "stream",
     "text": [
      "Total runtime :  0: 0:34 / 10 epoch\n"
     ]
    }
   ],
   "source": [
    "how_long_time = True\n",
    "\n",
    "\n",
    "if how_long_time:\n",
    "    time = [t[2] for t in train_stats] \n",
    "total = sum(time)  \n",
    "m, s = divmod(total, 60)\n",
    "h, m = divmod(m, 60)\n",
    "\n",
    "print('Total runtime : %2d:%2d:%2d / %d epoch' %(h, m, s, len(time)))"
   ]
  },
  {
   "cell_type": "markdown",
   "metadata": {},
   "source": [
    "Get a batch of reconstuctions and their latent-codes."
   ]
  },
  {
   "cell_type": "code",
   "execution_count": 15,
   "metadata": {},
   "outputs": [],
   "source": [
    "num = 819\n",
    "feed_pc, feed_model_names, _ = all_pc_data.next_batch(num)\n",
    "reconstructions = ae.reconstruct(feed_pc)[0]\n",
    "latent_codes = ae.transform(feed_pc)"
   ]
  },
  {
   "cell_type": "markdown",
   "metadata": {},
   "source": [
    "Use any plotting mechanism such as matplotlib to visualize the results."
   ]
  },
  {
   "cell_type": "code",
   "execution_count": null,
   "metadata": {},
   "outputs": [],
   "source": [
    "i = 2\n",
    "plot_3d_point_cloud(reconstructions[i][:, 0], \n",
    "                    reconstructions[i][:, 1], \n",
    "                    reconstructions[i][:, 2], in_u_sphere=True);\n",
    "\n",
    "i = 4\n",
    "plot_3d_point_cloud(reconstructions[i][:, 0], \n",
    "                    reconstructions[i][:, 1], \n",
    "                    reconstructions[i][:, 2], in_u_sphere=True);"
   ]
  },
  {
   "cell_type": "markdown",
   "metadata": {
    "pycharm": {
     "name": "#%% md\n"
    }
   },
   "source": [
    "Save"
   ]
  },
  {
   "cell_type": "code",
   "execution_count": null,
   "metadata": {
    "pycharm": {
     "name": "#%%\n"
    }
   },
   "outputs": [],
   "source": [
    "# f = open(osp.join(conf.train_dir, 'ae_reconstruction.txt'), 'a')\n",
    "# f.write(reconstructions)\n",
    "# f.close()"
   ]
  },
  {
   "cell_type": "code",
   "execution_count": 16,
   "metadata": {},
   "outputs": [],
   "source": [
    "import numpy as np\n",
    "import pandas as pd\n",
    "import os           \n",
    "import tensorflow as tf\n",
    "\n",
    "def createDir(dirname, path=os.getcwd()):\n",
    "    dirpath = osp.join(path, dirname)\n",
    "    try:\n",
    "        os.mkdir(dirpath)\n",
    "    except OSError as error:\n",
    "        print (\"exist\")\n",
    "        \n",
    "# os.makedirs(osp.join(conf.train_dir, 'ae_npy'))\n",
    "# os.makedirs(osp.join(conf.train_dir, 'ae_txt'))\n",
    "\n",
    "createDir('ae_npy', conf.train_dir)\n",
    "createDir('ae_txt', conf.train_dir)\n",
    "\n",
    "np.savez(osp.join(conf.train_dir, 'ae_npy', 'ae_reconstructions.npz'), reconstructions)\n",
    "np.save(osp.join(conf.train_dir, 'ae_npy', 'ae.npy'), reconstructions)\n",
    "      \n",
    "      \n",
    "for i in range(0,num):\n",
    "    xx = reconstructions[i][:, 0]\n",
    "    x = xx.tolist()\n",
    "    #     x = tf.convert_to_tensor(xx, dtype = tf.float32)\n",
    "    \n",
    "    yy = reconstructions[i][:, 1]\n",
    "    y = yy.tolist()\n",
    "    zz = reconstructions[i][:, 2]\n",
    "    z = zz.tolist()\n",
    "    \n",
    "    np.save(osp.join(conf.train_dir, 'ae_npy', 'ae_recon_'+ str(i).zfill(5) +'.npy'), reconstructions[i])\n",
    "    \n",
    "    \n",
    "      \n",
    "    p = open(osp.join(conf.train_dir, 'ae_txt', 'ae_recon_'+ str(i).zfill(5) +'.txt'), 'w+')\n",
    "    for k in range(0,2048):          \n",
    "        p.write('%8f\\t%8f\\t%8f\\n' %(x[k], y[k], z[k]))\n",
    "    p.close()"
   ]
  },
  {
   "cell_type": "code",
   "execution_count": null,
   "metadata": {},
   "outputs": [],
   "source": []
  },
  {
   "cell_type": "code",
   "execution_count": null,
   "metadata": {},
   "outputs": [],
   "source": []
  }
 ],
 "metadata": {
  "kernelspec": {
   "display_name": "Python 3",
   "language": "python",
   "name": "python3"
  },
  "language_info": {
   "codemirror_mode": {
    "name": "ipython",
    "version": 3
   },
   "file_extension": ".py",
   "mimetype": "text/x-python",
   "name": "python",
   "nbconvert_exporter": "python",
   "pygments_lexer": "ipython3",
   "version": "3.6.9"
  },
  "pycharm": {
   "stem_cell": {
    "cell_type": "raw",
    "metadata": {
     "collapsed": false
    },
    "source": []
   }
  }
 },
 "nbformat": 4,
 "nbformat_minor": 4
}
